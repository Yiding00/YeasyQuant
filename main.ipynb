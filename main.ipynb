{
 "cells": [
  {
   "cell_type": "code",
   "execution_count": 30,
   "metadata": {},
   "outputs": [],
   "source": [
    "from data_utils.Ashare import *\n",
    "from utils.annualized_return import annualized_return\n",
    "from utils.equities_compute import equities_com\n",
    "from utils.max_drawdown import max_drawdown\n",
    "from utils.sharpe_ratio import sharpe_ratio\n",
    "import mplfinance as mpf\n",
    "import numpy as np\n",
    "import numpy_financial as npf\n",
    "\n",
    "timepoints = 12*10\n",
    "A={}\n",
    "A[0] = get_price('sz159934',frequency='1M',count=timepoints) # 黄金\n",
    "A[1] = get_price('sh511010',frequency='1M',count=timepoints) # 债券\n",
    "A[2] = get_price('sh510300',frequency='1M',count=timepoints) # 沪深300\n",
    "# mpf.plot(gold, type='candle', style='charles', volume=True)\n",
    "# mpf.plot(bond, type='candle', style='charles', volume=True)\n",
    "# mpf.plot(A, type='candle', style='charles', volume=True)\n",
    "# print(A[0])"
   ]
  },
  {
   "cell_type": "code",
   "execution_count": 31,
   "metadata": {},
   "outputs": [
    {
     "name": "stdout",
     "output_type": "stream",
     "text": [
      "年化收益率: 5.86%\n",
      "最大回撤率: -3.69%\n",
      "夏普比率: 0.41\n"
     ]
    }
   ],
   "source": [
    "# 全仓以收盘价买入，分配到黄金，债券，沪深300中\n",
    "gain = 5 # 每月增加投资\n",
    "\n",
    "p = [0.33,0.33,0.34] # 3种资产的比例\n",
    "# p = [0,0,1]\n",
    "# p = [1,0,0]\n",
    "# p = [0,1,0]\n",
    "\n",
    "equities = equities_com(p, timepoints, gain, A)\n",
    "# print(equities)\n",
    "\n",
    "# 计算年化收益\n",
    "annualized_return = annualized_return(gain, timepoints, equities[-1])\n",
    "max_drawdown = max_drawdown(equities)\n",
    "sharpe_ratio = sharpe_ratio(equities, risk_free_rate=0.001)\n",
    "print(f\"年化收益率: {annualized_return:.2%}\")\n",
    "print(f\"最大回撤率: {max_drawdown * 100:.2f}%\")\n",
    "print(f\"夏普比率: {sharpe_ratio:.2f}\")"
   ]
  }
 ],
 "metadata": {
  "kernelspec": {
   "display_name": "CausalDiscovery",
   "language": "python",
   "name": "python3"
  },
  "language_info": {
   "codemirror_mode": {
    "name": "ipython",
    "version": 3
   },
   "file_extension": ".py",
   "mimetype": "text/x-python",
   "name": "python",
   "nbconvert_exporter": "python",
   "pygments_lexer": "ipython3",
   "version": "3.9.7"
  }
 },
 "nbformat": 4,
 "nbformat_minor": 2
}
